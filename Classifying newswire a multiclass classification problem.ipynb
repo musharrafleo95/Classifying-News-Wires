{
 "cells": [
  {
   "cell_type": "code",
   "execution_count": 1,
   "metadata": {},
   "outputs": [
    {
     "name": "stderr",
     "output_type": "stream",
     "text": [
      "Using TensorFlow backend.\n"
     ]
    }
   ],
   "source": [
    "from keras.datasets import reuters"
   ]
  },
  {
   "cell_type": "code",
   "execution_count": 2,
   "metadata": {},
   "outputs": [
    {
     "name": "stdout",
     "output_type": "stream",
     "text": [
      "Downloading data from https://s3.amazonaws.com/text-datasets/reuters.npz\n",
      "2113536/2110848 [==============================] - 19s 9us/step\n"
     ]
    }
   ],
   "source": [
    "(train_data, train_labels), (test_data, test_labels) = reuters.load_data(num_words = 10000)"
   ]
  },
  {
   "cell_type": "code",
   "execution_count": 4,
   "metadata": {},
   "outputs": [
    {
     "data": {
      "text/plain": [
       "(8982,)"
      ]
     },
     "execution_count": 4,
     "metadata": {},
     "output_type": "execute_result"
    }
   ],
   "source": [
    "train_data.shape"
   ]
  },
  {
   "cell_type": "code",
   "execution_count": 5,
   "metadata": {},
   "outputs": [
    {
     "data": {
      "text/plain": [
       "(2246,)"
      ]
     },
     "execution_count": 5,
     "metadata": {},
     "output_type": "execute_result"
    }
   ],
   "source": [
    "test_data.shape"
   ]
  },
  {
   "cell_type": "code",
   "execution_count": 6,
   "metadata": {},
   "outputs": [
    {
     "data": {
      "text/plain": [
       "[1,\n",
       " 4,\n",
       " 1378,\n",
       " 2025,\n",
       " 9,\n",
       " 697,\n",
       " 4622,\n",
       " 111,\n",
       " 8,\n",
       " 25,\n",
       " 109,\n",
       " 29,\n",
       " 3650,\n",
       " 11,\n",
       " 150,\n",
       " 244,\n",
       " 364,\n",
       " 33,\n",
       " 30,\n",
       " 30,\n",
       " 1398,\n",
       " 333,\n",
       " 6,\n",
       " 2,\n",
       " 159,\n",
       " 9,\n",
       " 1084,\n",
       " 363,\n",
       " 13,\n",
       " 2,\n",
       " 71,\n",
       " 9,\n",
       " 2,\n",
       " 71,\n",
       " 117,\n",
       " 4,\n",
       " 225,\n",
       " 78,\n",
       " 206,\n",
       " 10,\n",
       " 9,\n",
       " 1214,\n",
       " 8,\n",
       " 4,\n",
       " 270,\n",
       " 5,\n",
       " 2,\n",
       " 7,\n",
       " 748,\n",
       " 48,\n",
       " 9,\n",
       " 2,\n",
       " 7,\n",
       " 207,\n",
       " 1451,\n",
       " 966,\n",
       " 1864,\n",
       " 793,\n",
       " 97,\n",
       " 133,\n",
       " 336,\n",
       " 7,\n",
       " 4,\n",
       " 493,\n",
       " 98,\n",
       " 273,\n",
       " 104,\n",
       " 284,\n",
       " 25,\n",
       " 39,\n",
       " 338,\n",
       " 22,\n",
       " 905,\n",
       " 220,\n",
       " 3465,\n",
       " 644,\n",
       " 59,\n",
       " 20,\n",
       " 6,\n",
       " 119,\n",
       " 61,\n",
       " 11,\n",
       " 15,\n",
       " 58,\n",
       " 579,\n",
       " 26,\n",
       " 10,\n",
       " 67,\n",
       " 7,\n",
       " 4,\n",
       " 738,\n",
       " 98,\n",
       " 43,\n",
       " 88,\n",
       " 333,\n",
       " 722,\n",
       " 12,\n",
       " 20,\n",
       " 6,\n",
       " 19,\n",
       " 746,\n",
       " 35,\n",
       " 15,\n",
       " 10,\n",
       " 9,\n",
       " 1214,\n",
       " 855,\n",
       " 129,\n",
       " 783,\n",
       " 21,\n",
       " 4,\n",
       " 2280,\n",
       " 244,\n",
       " 364,\n",
       " 51,\n",
       " 16,\n",
       " 299,\n",
       " 452,\n",
       " 16,\n",
       " 515,\n",
       " 4,\n",
       " 99,\n",
       " 29,\n",
       " 5,\n",
       " 4,\n",
       " 364,\n",
       " 281,\n",
       " 48,\n",
       " 10,\n",
       " 9,\n",
       " 1214,\n",
       " 23,\n",
       " 644,\n",
       " 47,\n",
       " 20,\n",
       " 324,\n",
       " 27,\n",
       " 56,\n",
       " 2,\n",
       " 2,\n",
       " 5,\n",
       " 192,\n",
       " 510,\n",
       " 17,\n",
       " 12]"
      ]
     },
     "execution_count": 6,
     "metadata": {},
     "output_type": "execute_result"
    }
   ],
   "source": [
    "test_data[0]"
   ]
  },
  {
   "cell_type": "code",
   "execution_count": 8,
   "metadata": {},
   "outputs": [],
   "source": [
    "word_index = reuters.get_word_index()\n",
    "reverse_word_index = dict([(value, key) for (key, value) in word_index.items()])\n",
    "decoded_newswire = ' '.join([reverse_word_index.get(i - 3, '?') for i in\n",
    "    train_data[0]])"
   ]
  },
  {
   "cell_type": "code",
   "execution_count": 16,
   "metadata": {},
   "outputs": [],
   "source": [
    "import numpy as np\n",
    "\n",
    "def vectorize_sequences(sequences, dimension=10000):\n",
    "    results = np.zeros((len(sequences), dimension))\n",
    "    for i, sequence in enumerate(sequences):\n",
    "        results[i, sequence] = 1.\n",
    "    return results\n",
    "\n",
    "x_train = vectorize_sequences(train_data)\n",
    "x_test = vectorize_sequences(test_data)\n"
   ]
  },
  {
   "cell_type": "code",
   "execution_count": 17,
   "metadata": {},
   "outputs": [],
   "source": [
    "# one way of vectroizing the labels by doing one hot encoding\n",
    "def to_one_hot(labels, dimension=46):\n",
    "    results = np.zeros((len(labels), dimension))\n",
    "    for i, label in enumerate(labels):\n",
    "        results[i, label] = 1.\n",
    "    return results\n",
    "\n",
    "one_hot_train_labels = to_one_hot(train_labels)\n",
    "one_hot_test_labels = to_one_hot(test_labels)\n"
   ]
  },
  {
   "cell_type": "code",
   "execution_count": 18,
   "metadata": {},
   "outputs": [],
   "source": [
    "# builtin way of one hot encoding\n",
    "from keras.utils.np_utils import to_categorical\n",
    "\n",
    "one_hot_train_labels = to_categorical(train_labels)\n",
    "one_hot_test_labels = to_categorical(test_labels)\n"
   ]
  },
  {
   "cell_type": "code",
   "execution_count": 19,
   "metadata": {},
   "outputs": [],
   "source": [
    "# Making a network\n",
    "from keras import models\n",
    "from keras import layers\n",
    "\n",
    "model = models.Sequential()\n",
    "model.add(layers.Dense(64, activation='relu', input_shape=(10000,)))\n",
    "model.add(layers.Dense(64, activation='relu'))\n",
    "model.add(layers.Dense(46, activation='softmax'))"
   ]
  },
  {
   "cell_type": "code",
   "execution_count": 20,
   "metadata": {},
   "outputs": [],
   "source": [
    "model.compile(optimizer='rmsprop',\n",
    "              loss='categorical_crossentropy',\n",
    "              metrics=['accuracy'])"
   ]
  },
  {
   "cell_type": "code",
   "execution_count": 21,
   "metadata": {},
   "outputs": [],
   "source": [
    "x_val = x_train[:1000]\n",
    "partial_x_train = x_train[1000:]\n",
    "\n",
    "y_val = one_hot_train_labels[:1000]\n",
    "partial_y_train = one_hot_train_labels[1000:]"
   ]
  },
  {
   "cell_type": "code",
   "execution_count": 22,
   "metadata": {},
   "outputs": [
    {
     "name": "stdout",
     "output_type": "stream",
     "text": [
      "Train on 7982 samples, validate on 1000 samples\n",
      "Epoch 1/20\n",
      "7982/7982 [==============================] - 2s 227us/step - loss: 2.5322 - acc: 0.4955 - val_loss: 1.7208 - val_acc: 0.6120\n",
      "Epoch 2/20\n",
      "7982/7982 [==============================] - 2s 189us/step - loss: 1.4452 - acc: 0.6879 - val_loss: 1.3459 - val_acc: 0.7060\n",
      "Epoch 3/20\n",
      "7982/7982 [==============================] - 1s 176us/step - loss: 1.0952 - acc: 0.7651 - val_loss: 1.1709 - val_acc: 0.7430\n",
      "Epoch 4/20\n",
      "7982/7982 [==============================] - 1s 180us/step - loss: 0.8697 - acc: 0.8168 - val_loss: 1.0788 - val_acc: 0.7590\n",
      "Epoch 5/20\n",
      "7982/7982 [==============================] - 1s 185us/step - loss: 0.7034 - acc: 0.8474 - val_loss: 0.9839 - val_acc: 0.7820\n",
      "Epoch 6/20\n",
      "7982/7982 [==============================] - 1s 176us/step - loss: 0.5669 - acc: 0.8799 - val_loss: 0.9409 - val_acc: 0.8040\n",
      "Epoch 7/20\n",
      "7982/7982 [==============================] - 1s 173us/step - loss: 0.4583 - acc: 0.9048 - val_loss: 0.9076 - val_acc: 0.8010\n",
      "Epoch 8/20\n",
      "7982/7982 [==============================] - 1s 173us/step - loss: 0.3696 - acc: 0.9228 - val_loss: 0.9352 - val_acc: 0.7900\n",
      "Epoch 9/20\n",
      "7982/7982 [==============================] - 1s 186us/step - loss: 0.3033 - acc: 0.9310 - val_loss: 0.8918 - val_acc: 0.8090\n",
      "Epoch 10/20\n",
      "7982/7982 [==============================] - 1s 176us/step - loss: 0.2539 - acc: 0.9412 - val_loss: 0.9068 - val_acc: 0.8110\n",
      "Epoch 11/20\n",
      "7982/7982 [==============================] - 1s 176us/step - loss: 0.2184 - acc: 0.9470 - val_loss: 0.9185 - val_acc: 0.8140\n",
      "Epoch 12/20\n",
      "7982/7982 [==============================] - 1s 172us/step - loss: 0.1874 - acc: 0.9510 - val_loss: 0.9046 - val_acc: 0.8140\n",
      "Epoch 13/20\n",
      "7982/7982 [==============================] - 1s 178us/step - loss: 0.1700 - acc: 0.9525 - val_loss: 0.9342 - val_acc: 0.8090\n",
      "Epoch 14/20\n",
      "7982/7982 [==============================] - 1s 176us/step - loss: 0.1533 - acc: 0.9557 - val_loss: 0.9679 - val_acc: 0.8080\n",
      "Epoch 15/20\n",
      "7982/7982 [==============================] - 1s 174us/step - loss: 0.1390 - acc: 0.9559 - val_loss: 0.9684 - val_acc: 0.8150\n",
      "Epoch 16/20\n",
      "7982/7982 [==============================] - 1s 175us/step - loss: 0.1313 - acc: 0.9562 - val_loss: 1.0235 - val_acc: 0.8070\n",
      "Epoch 17/20\n",
      "7982/7982 [==============================] - 1s 174us/step - loss: 0.1220 - acc: 0.9578 - val_loss: 1.0240 - val_acc: 0.7970\n",
      "Epoch 18/20\n",
      "7982/7982 [==============================] - 1s 174us/step - loss: 0.1196 - acc: 0.9578 - val_loss: 1.0422 - val_acc: 0.8080\n",
      "Epoch 19/20\n",
      "7982/7982 [==============================] - 1s 172us/step - loss: 0.1138 - acc: 0.9598 - val_loss: 1.0974 - val_acc: 0.7980\n",
      "Epoch 20/20\n",
      "7982/7982 [==============================] - 1s 178us/step - loss: 0.1110 - acc: 0.9594 - val_loss: 1.0685 - val_acc: 0.8020\n"
     ]
    }
   ],
   "source": [
    "history = model.fit(partial_x_train,\n",
    "                    partial_y_train,\n",
    "                    epochs=20,\n",
    "                    batch_size=512,\n",
    "                    validation_data=(x_val, y_val))"
   ]
  },
  {
   "cell_type": "code",
   "execution_count": 31,
   "metadata": {},
   "outputs": [
    {
     "data": {
      "text/plain": [
       "<matplotlib.legend.Legend at 0x15aacb84208>"
      ]
     },
     "execution_count": 31,
     "metadata": {},
     "output_type": "execute_result"
    },
    {
     "data": {
      "image/png": "[encoded data removed]",
      "text/plain": [
       "<Figure size 432x288 with 1 Axes>"
      ]
     },
     "metadata": {
      "needs_background": "light"
     },
     "output_type": "display_data"
    }
   ],
   "source": [
    "import matplotlib.pyplot as plt\n",
    "\n",
    "loss = history.history['loss']\n",
    "val_loss = history.history['val_loss']\n",
    "\n",
    "epochs = range(1, len(loss) + 1)\n",
    "\n",
    "plt.plot(epochs, loss, 'bo', label='Training loss')\n",
    "plt.plot(epochs, val_loss, 'b', label='Validation loss')\n",
    "plt.title('Training and validation loss')\n",
    "plt.xlabel('Epochs')\n",
    "plt.ylabel('Loss')\n",
    "plt.legend()"
   ]
  },
  {
   "cell_type": "code",
   "execution_count": 26,
   "metadata": {},
   "outputs": [
    {
     "data": {
      "image/png": "[encoded data removed]",
      "text/plain": [
       "<Figure size 432x288 with 1 Axes>"
      ]
     },
     "metadata": {
      "needs_background": "light"
     },
     "output_type": "display_data"
    }
   ],
   "source": [
    "\n",
    "plt.clf()\n",
    "\n",
    "acc = history.history['acc']\n",
    "val_acc = history.history['val_acc']\n",
    "\n",
    "plt.plot(epochs, acc, 'bo', label='Training acc')\n",
    "plt.plot(epochs, val_acc, 'b', label='Validation acc')\n",
    "plt.title('Training and validation accuracy')\n",
    "plt.xlabel('Epochs')\n",
    "plt.ylabel('Accuracy')\n",
    "plt.legend()\n",
    "\n",
    "plt.show()"
   ]
  },
  {
   "cell_type": "markdown",
   "metadata": {},
   "source": [
    "The model beign to overfit after 9 epoch so lets train a new model on 9 epoch and then test it on test data"
   ]
  },
  {
   "cell_type": "code",
   "execution_count": 29,
   "metadata": {},
   "outputs": [
    {
     "name": "stdout",
     "output_type": "stream",
     "text": [
      "Train on 7982 samples, validate on 1000 samples\n",
      "Epoch 1/8\n",
      "7982/7982 [==============================] - 1s 175us/step - loss: 2.6135 - acc: 0.4644 - val_loss: 1.7289 - val_acc: 0.6350\n",
      "Epoch 2/8\n",
      "7982/7982 [==============================] - 1s 148us/step - loss: 1.4074 - acc: 0.7082 - val_loss: 1.2747 - val_acc: 0.7310\n",
      "Epoch 3/8\n",
      "7982/7982 [==============================] - 1s 146us/step - loss: 1.0425 - acc: 0.7786 - val_loss: 1.1035 - val_acc: 0.7630\n",
      "Epoch 4/8\n",
      "7982/7982 [==============================] - 1s 143us/step - loss: 0.8180 - acc: 0.8322 - val_loss: 1.0270 - val_acc: 0.7820\n",
      "Epoch 5/8\n",
      "7982/7982 [==============================] - 1s 147us/step - loss: 0.6507 - acc: 0.8629 - val_loss: 0.9513 - val_acc: 0.8070\n",
      "Epoch 6/8\n",
      "7982/7982 [==============================] - 1s 144us/step - loss: 0.5297 - acc: 0.8904 - val_loss: 0.9206 - val_acc: 0.8120\n",
      "Epoch 7/8\n",
      "7982/7982 [==============================] - 1s 144us/step - loss: 0.4213 - acc: 0.9113 - val_loss: 0.9006 - val_acc: 0.8140\n",
      "Epoch 8/8\n",
      "7982/7982 [==============================] - 1s 145us/step - loss: 0.3486 - acc: 0.9257 - val_loss: 0.8917 - val_acc: 0.8150\n",
      "2246/2246 [==============================] - 0s 145us/step\n"
     ]
    }
   ],
   "source": [
    "model = models.Sequential()\n",
    "model.add(layers.Dense(64, activation='relu', input_shape=(10000,)))\n",
    "model.add(layers.Dense(64, activation='relu'))\n",
    "model.add(layers.Dense(46, activation='softmax'))\n",
    "\n",
    "model.compile(optimizer='rmsprop',\n",
    "              loss='categorical_crossentropy',\n",
    "              metrics=['accuracy'])\n",
    "model.fit(partial_x_train,\n",
    "          partial_y_train,\n",
    "          epochs=8,\n",
    "          batch_size=512,\n",
    "          validation_data=(x_val, y_val))\n",
    "results = model.evaluate(x_test, one_hot_test_labels)"
   ]
  },
  {
   "cell_type": "code",
   "execution_count": 30,
   "metadata": {},
   "outputs": [
    {
     "data": {
      "text/plain": [
       "[0.9903574393247773, 0.778272484443279]"
      ]
     },
     "execution_count": 30,
     "metadata": {},
     "output_type": "execute_result"
    }
   ],
   "source": [
    "results"
   ]
  },
  {
   "cell_type": "code",
   "execution_count": 32,
   "metadata": {},
   "outputs": [],
   "source": [
    "predictions = model.predict(x_test)"
   ]
  },
  {
   "cell_type": "code",
   "execution_count": 43,
   "metadata": {},
   "outputs": [
    {
     "data": {
      "text/plain": [
       "array([1.2419830e-04, 8.5844833e-05, 3.7900132e-05, 4.8039076e-01,\n",
       "       4.9257120e-01, 1.7515727e-05, 1.2289869e-04, 4.5078483e-05,\n",
       "       1.3865286e-02, 1.2442545e-04, 4.6677972e-04, 1.6593256e-03,\n",
       "       9.4395647e-05, 1.1743433e-03, 4.8278860e-04, 2.0164451e-04,\n",
       "       1.2290047e-03, 6.4621534e-04, 2.2506045e-05, 2.4434766e-03,\n",
       "       6.7275565e-04, 2.0683605e-04, 4.0843137e-05, 1.7077055e-04,\n",
       "       7.5725802e-05, 2.0824766e-04, 1.2858711e-04, 8.6844571e-05,\n",
       "       1.7000326e-04, 5.9568723e-05, 7.5510106e-05, 4.8850263e-05,\n",
       "       4.7271611e-04, 5.9496988e-06, 1.8223526e-04, 3.2125583e-06,\n",
       "       5.4425740e-04, 4.8174890e-05, 2.4741676e-04, 4.7079459e-04,\n",
       "       1.1102930e-04, 3.6215253e-05, 8.4579606e-06, 6.9272814e-05,\n",
       "       4.2477030e-05, 7.5780672e-06], dtype=float32)"
      ]
     },
     "execution_count": 43,
     "metadata": {},
     "output_type": "execute_result"
    }
   ],
   "source": [
    "predictions[0] # A 46 dimensional vector"
   ]
  },
  {
   "cell_type": "code",
   "execution_count": 45,
   "metadata": {},
   "outputs": [
    {
     "data": {
      "text/plain": [
       "4"
      ]
     },
     "execution_count": 45,
     "metadata": {},
     "output_type": "execute_result"
    }
   ],
   "source": [
    "np.argmax(predictions[0]) #the largest entry"
   ]
  },
  {
   "cell_type": "code",
   "execution_count": 46,
   "metadata": {},
   "outputs": [
    {
     "data": {
      "text/plain": [
       "0.99999994"
      ]
     },
     "execution_count": 46,
     "metadata": {},
     "output_type": "execute_result"
    }
   ],
   "source": [
    "np.sum(predictions[0]) #Since we used softmax os the sum would be 1"
   ]
  },
  {
   "cell_type": "markdown",
   "metadata": {},
   "source": [
    "# A different way to handle the labels and the loss"
   ]
  },
  {
   "cell_type": "code",
   "execution_count": 47,
   "metadata": {},
   "outputs": [],
   "source": [
    "#Another way to encode the label is to cast them as integer tensor\n",
    "y_train = np.array(train_labels)\n",
    "y_test = np.array(test_labels)\n",
    "# the only thing that would change in this approach is the loss fucntion. With integer tensor, we use sparse_categorical_crossentropy\n",
    "model.compile(optimizer = 'rmsprop',\n",
    "              loss = 'sparse_categorical_crossentropy',\n",
    "              metrics = ['acc'])\n",
    "\n",
    "#this new loss function is mathematically same as categorical_crossentropy. It just has adifferent interface"
   ]
  },
  {
   "cell_type": "markdown",
   "metadata": {},
   "source": [
    "# Trying a model with information bottleneck"
   ]
  },
  {
   "cell_type": "code",
   "execution_count": 48,
   "metadata": {},
   "outputs": [
    {
     "name": "stdout",
     "output_type": "stream",
     "text": [
      "Train on 7982 samples, validate on 1000 samples\n",
      "Epoch 1/20\n",
      "7982/7982 [==============================] - 2s 264us/step - loss: 2.5637 - acc: 0.5200 - val_loss: 1.8599 - val_acc: 0.5550\n",
      "Epoch 2/20\n",
      "7982/7982 [==============================] - 2s 200us/step - loss: 1.5980 - acc: 0.5972 - val_loss: 1.5059 - val_acc: 0.6260\n",
      "Epoch 3/20\n",
      "7982/7982 [==============================] - 2s 193us/step - loss: 1.3106 - acc: 0.6581 - val_loss: 1.3659 - val_acc: 0.6520\n",
      "Epoch 4/20\n",
      "7982/7982 [==============================] - 2s 215us/step - loss: 1.1271 - acc: 0.7042 - val_loss: 1.3001 - val_acc: 0.6850\n",
      "Epoch 5/20\n",
      "7982/7982 [==============================] - 2s 216us/step - loss: 1.0014 - acc: 0.7429 - val_loss: 1.2700 - val_acc: 0.7020\n",
      "Epoch 6/20\n",
      "7982/7982 [==============================] - 2s 225us/step - loss: 0.9108 - acc: 0.7653 - val_loss: 1.2550 - val_acc: 0.7110\n",
      "Epoch 7/20\n",
      "7982/7982 [==============================] - 2s 226us/step - loss: 0.8364 - acc: 0.7791 - val_loss: 1.3047 - val_acc: 0.7040\n",
      "Epoch 8/20\n",
      "7982/7982 [==============================] - 2s 218us/step - loss: 0.7806 - acc: 0.7864 - val_loss: 1.2962 - val_acc: 0.7100\n",
      "Epoch 9/20\n",
      "7982/7982 [==============================] - 2s 226us/step - loss: 0.7282 - acc: 0.7945 - val_loss: 1.3217 - val_acc: 0.7030\n",
      "Epoch 10/20\n",
      "7982/7982 [==============================] - 2s 225us/step - loss: 0.6861 - acc: 0.8004 - val_loss: 1.3537 - val_acc: 0.7090\n",
      "Epoch 11/20\n",
      "7982/7982 [==============================] - 2s 238us/step - loss: 0.6449 - acc: 0.8066 - val_loss: 1.3489 - val_acc: 0.7090\n",
      "Epoch 12/20\n",
      "7982/7982 [==============================] - 2s 218us/step - loss: 0.6097 - acc: 0.8145 - val_loss: 1.4331 - val_acc: 0.6950\n",
      "Epoch 13/20\n",
      "7982/7982 [==============================] - 2s 203us/step - loss: 0.5793 - acc: 0.8234 - val_loss: 1.4186 - val_acc: 0.7070\n",
      "Epoch 14/20\n",
      "7982/7982 [==============================] - 2s 197us/step - loss: 0.5489 - acc: 0.8322 - val_loss: 1.4331 - val_acc: 0.7060\n",
      "Epoch 15/20\n",
      "7982/7982 [==============================] - 2s 198us/step - loss: 0.5234 - acc: 0.8406 - val_loss: 1.4793 - val_acc: 0.7100\n",
      "Epoch 16/20\n",
      "7982/7982 [==============================] - 2s 195us/step - loss: 0.4993 - acc: 0.8445 - val_loss: 1.5071 - val_acc: 0.7140\n",
      "Epoch 17/20\n",
      "7982/7982 [==============================] - 2s 194us/step - loss: 0.4768 - acc: 0.8553 - val_loss: 1.5373 - val_acc: 0.7140\n",
      "Epoch 18/20\n",
      "7982/7982 [==============================] - 2s 197us/step - loss: 0.4555 - acc: 0.8646 - val_loss: 1.5832 - val_acc: 0.7080\n",
      "Epoch 19/20\n",
      "7982/7982 [==============================] - 2s 195us/step - loss: 0.4370 - acc: 0.8771 - val_loss: 1.5994 - val_acc: 0.7090\n",
      "Epoch 20/20\n",
      "7982/7982 [==============================] - 2s 196us/step - loss: 0.4184 - acc: 0.8839 - val_loss: 1.6339 - val_acc: 0.7070\n"
     ]
    },
    {
     "data": {
      "text/plain": [
       "<keras.callbacks.History at 0x15aac81ea90>"
      ]
     },
     "execution_count": 48,
     "metadata": {},
     "output_type": "execute_result"
    }
   ],
   "source": [
    "model = models.Sequential()\n",
    "model.add(layers.Dense(64, activation='relu', input_shape=(10000,)))\n",
    "model.add(layers.Dense(4, activation='relu')) #since hidden unit are less then our total classes so we have a bottleneck\n",
    "model.add(layers.Dense(46, activation='softmax'))\n",
    "\n",
    "model.compile(optimizer='rmsprop',\n",
    "              loss='categorical_crossentropy',\n",
    "              metrics=['accuracy'])\n",
    "model.fit(partial_x_train,\n",
    "          partial_y_train,\n",
    "          epochs=20,\n",
    "          batch_size=128,\n",
    "          validation_data=(x_val, y_val))\n"
   ]
  },
  {
   "cell_type": "markdown",
   "metadata": {},
   "source": [
    "So because of bottleneck our network efficiency dropped to 70%"
   ]
  },
  {
   "cell_type": "code",
   "execution_count": 50,
   "metadata": {},
   "outputs": [
    {
     "name": "stdout",
     "output_type": "stream",
     "text": [
      "2246/2246 [==============================] - 0s 159us/step\n"
     ]
    },
    {
     "data": {
      "text/plain": [
       "[1.88089487601473, 0.6954585930543188]"
      ]
     },
     "execution_count": 50,
     "metadata": {},
     "output_type": "execute_result"
    }
   ],
   "source": [
    "model.evaluate(x_test, one_hot_test_labels)"
   ]
  },
  {
   "cell_type": "markdown",
   "metadata": {},
   "source": [
    "# Trying the model with larger hidden layers"
   ]
  },
  {
   "cell_type": "code",
   "execution_count": 52,
   "metadata": {},
   "outputs": [
    {
     "name": "stdout",
     "output_type": "stream",
     "text": [
      "Train on 7982 samples, validate on 1000 samples\n",
      "Epoch 1/4\n",
      "7982/7982 [==============================] - 3s 329us/step - loss: 1.6718 - acc: 0.6510 - val_loss: 1.2097 - val_acc: 0.7130\n",
      "Epoch 2/4\n",
      "7982/7982 [==============================] - 2s 289us/step - loss: 0.8261 - acc: 0.8196 - val_loss: 0.9899 - val_acc: 0.7870\n",
      "Epoch 3/4\n",
      "7982/7982 [==============================] - 2s 288us/step - loss: 0.4953 - acc: 0.8974 - val_loss: 0.8812 - val_acc: 0.8160\n",
      "Epoch 4/4\n",
      "7982/7982 [==============================] - 2s 309us/step - loss: 0.3271 - acc: 0.9317 - val_loss: 0.8837 - val_acc: 0.8290\n",
      "2246/2246 [==============================] - 0s 157us/step\n"
     ]
    },
    {
     "data": {
      "text/plain": [
       "[0.9593696980633485, 0.791184327746754]"
      ]
     },
     "execution_count": 52,
     "metadata": {},
     "output_type": "execute_result"
    }
   ],
   "source": [
    "model = models.Sequential()\n",
    "model.add(layers.Dense(128, activation='relu', input_shape=(10000,)))\n",
    "model.add(layers.Dense(64, activation='relu')) \n",
    "model.add(layers.Dense(46, activation='softmax'))\n",
    "\n",
    "model.compile(optimizer='rmsprop',\n",
    "              loss='categorical_crossentropy',\n",
    "              metrics=['accuracy'])\n",
    "model.fit(partial_x_train,\n",
    "          partial_y_train,\n",
    "          epochs=4,\n",
    "          batch_size=128,\n",
    "          validation_data=(x_val, y_val))\n",
    "model.evaluate(x_test, one_hot_test_labels)"
   ]
  },
  {
   "cell_type": "markdown",
   "metadata": {},
   "source": [
    "# Trying model with different hidden layers"
   ]
  },
  {
   "cell_type": "code",
   "execution_count": 54,
   "metadata": {},
   "outputs": [
    {
     "name": "stdout",
     "output_type": "stream",
     "text": [
      "Train on 7982 samples, validate on 1000 samples\n",
      "Epoch 1/10\n",
      "7982/7982 [==============================] - 5s 602us/step - loss: 1.4842 - acc: 0.6688 - val_loss: 1.0750 - val_acc: 0.7410\n",
      "Epoch 2/10\n",
      "7982/7982 [==============================] - 4s 553us/step - loss: 0.6956 - acc: 0.8455 - val_loss: 0.9024 - val_acc: 0.7970\n",
      "Epoch 3/10\n",
      "7982/7982 [==============================] - 4s 544us/step - loss: 0.3968 - acc: 0.9121 - val_loss: 0.8976 - val_acc: 0.8150\n",
      "Epoch 4/10\n",
      "7982/7982 [==============================] - 5s 564us/step - loss: 0.2589 - acc: 0.9389 - val_loss: 0.9546 - val_acc: 0.7970\n",
      "Epoch 5/10\n",
      "7982/7982 [==============================] - 4s 500us/step - loss: 0.2027 - acc: 0.9501 - val_loss: 0.9952 - val_acc: 0.8020\n",
      "Epoch 6/10\n",
      "7982/7982 [==============================] - 4s 502us/step - loss: 0.1746 - acc: 0.9521 - val_loss: 1.0626 - val_acc: 0.8030\n",
      "Epoch 7/10\n",
      "7982/7982 [==============================] - 4s 496us/step - loss: 0.1495 - acc: 0.9531 - val_loss: 1.0742 - val_acc: 0.8110\n",
      "Epoch 8/10\n",
      "7982/7982 [==============================] - 4s 512us/step - loss: 0.1306 - acc: 0.9551 - val_loss: 1.1525 - val_acc: 0.8060\n",
      "Epoch 9/10\n",
      "7982/7982 [==============================] - 4s 515us/step - loss: 0.1224 - acc: 0.9578 - val_loss: 1.2242 - val_acc: 0.7960\n",
      "Epoch 10/10\n",
      "7982/7982 [==============================] - 4s 506us/step - loss: 0.1117 - acc: 0.9555 - val_loss: 1.2225 - val_acc: 0.8000\n",
      "2246/2246 [==============================] - 0s 180us/step\n"
     ]
    },
    {
     "data": {
      "text/plain": [
       "[1.4620029915684796, 0.7800534283700843]"
      ]
     },
     "execution_count": 54,
     "metadata": {},
     "output_type": "execute_result"
    }
   ],
   "source": [
    "model = models.Sequential()\n",
    "model.add(layers.Dense(256, activation='relu', input_shape=(10000,)))\n",
    "model.add(layers.Dense(128, activation='relu')) \n",
    "model.add(layers.Dense(64, activation='relu')) \n",
    "model.add(layers.Dense(46, activation='softmax'))\n",
    "\n",
    "model.compile(optimizer='rmsprop',\n",
    "              loss='categorical_crossentropy',\n",
    "              metrics=['accuracy'])\n",
    "model.fit(partial_x_train,\n",
    "          partial_y_train,\n",
    "          epochs=10,\n",
    "          batch_size=128,\n",
    "          validation_data=(x_val, y_val))\n",
    "model.evaluate(x_test, one_hot_test_labels)"
   ]
  },
  {
   "cell_type": "code",
   "execution_count": 62,
   "metadata": {},
   "outputs": [
    {
     "name": "stdout",
     "output_type": "stream",
     "text": [
      "Train on 7982 samples, validate on 1000 samples\n",
      "Epoch 1/7\n",
      "7982/7982 [==============================] - 2s 281us/step - loss: 2.0301 - acc: 0.5986 - val_loss: 1.3542 - val_acc: 0.7150\n",
      "Epoch 2/7\n",
      "7982/7982 [==============================] - 2s 215us/step - loss: 1.0468 - acc: 0.7821 - val_loss: 1.0543 - val_acc: 0.7910\n",
      "Epoch 3/7\n",
      "7982/7982 [==============================] - 2s 192us/step - loss: 0.7271 - acc: 0.8532 - val_loss: 0.9275 - val_acc: 0.8090\n",
      "Epoch 4/7\n",
      "7982/7982 [==============================] - 2s 195us/step - loss: 0.5279 - acc: 0.8971 - val_loss: 0.8584 - val_acc: 0.8230\n",
      "Epoch 5/7\n",
      "7982/7982 [==============================] - 2s 195us/step - loss: 0.3948 - acc: 0.9207 - val_loss: 0.8168 - val_acc: 0.8260\n",
      "Epoch 6/7\n",
      "7982/7982 [==============================] - 2s 192us/step - loss: 0.3074 - acc: 0.9355 - val_loss: 0.8193 - val_acc: 0.8240\n",
      "Epoch 7/7\n",
      "7982/7982 [==============================] - 2s 192us/step - loss: 0.2484 - acc: 0.9441 - val_loss: 0.8259 - val_acc: 0.8250\n",
      "2246/2246 [==============================] - 0s 148us/step\n"
     ]
    },
    {
     "data": {
      "text/plain": [
       "[0.9197102497437122, 0.7947462155207501]"
      ]
     },
     "execution_count": 62,
     "metadata": {},
     "output_type": "execute_result"
    }
   ],
   "source": [
    "model = models.Sequential()\n",
    "model.add(layers.Dense(128, activation='elu', input_shape=(10000,)))\n",
    "model.add(layers.Dense(46, activation='softmax'))\n",
    "\n",
    "model.compile(optimizer='rmsprop',\n",
    "              loss='categorical_crossentropy',\n",
    "              metrics=['accuracy'])\n",
    "model.fit(partial_x_train,\n",
    "          partial_y_train,\n",
    "          epochs=7,\n",
    "          batch_size=512,\n",
    "          validation_data=(x_val, y_val))\n",
    "model.evaluate(x_test, one_hot_test_labels)"
   ]
  }
 ],
 "metadata": {
  "kernelspec": {
   "display_name": "Python 3",
   "language": "python",
   "name": "python3"
  },
  "language_info": {
   "codemirror_mode": {
    "name": "ipython",
    "version": 3
   },
   "file_extension": ".py",
   "mimetype": "text/x-python",
   "name": "python",
   "nbconvert_exporter": "python",
   "pygments_lexer": "ipython3",
   "version": "3.6.7"
  }
 },
 "nbformat": 4,
 "nbformat_minor": 2
}
